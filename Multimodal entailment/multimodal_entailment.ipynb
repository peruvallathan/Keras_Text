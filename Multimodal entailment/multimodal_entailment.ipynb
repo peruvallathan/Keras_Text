{
 "cells": [
  {
   "cell_type": "markdown",
   "metadata": {
    "id": "hEdenjPCHW1C"
   },
   "source": [
    "# Multimodal entailment\n",
    "\n",
    "**Author:** [Sayak Paul](https://twitter.com/RisingSayak)<br>\n",
    "**Date created:** 2021/08/08<br>\n",
    "**Last modified:** 2021/08/15<br>\n",
    "**Description:** Training a multimodal model for predicting entailment."
   ]
  },
  {
   "cell_type": "markdown",
   "metadata": {
    "id": "gePUKNdTHW1D"
   },
   "source": [
    "## Introduction\n",
    "\n",
    "In this example, we will build and train a model for predicting multimodal entailment. We will be\n",
    "using the\n",
    "[multimodal entailment dataset](https://github.com/google-research-datasets/recognizing-multimodal-entailment)\n",
    "recently introduced by Google Research.\n",
    "\n",
    "### What is multimodal entailment?\n",
    "\n",
    "On social media platforms, to audit and moderate content\n",
    "we may want to find answers to the\n",
    "following questions in near real-time:\n",
    "\n",
    "* Does a given piece of information contradict the other?\n",
    "* Does a given piece of information imply the other?\n",
    "\n",
    "In NLP, this task is called analyzing _textual entailment_. However, that's only\n",
    "when the information comes from text content.\n",
    "In practice, it's often the case the information available comes not just\n",
    "from text content, but from a multimodal combination of text, images, audio, video, etc.\n",
    "_Multimodal entailment_ is simply the extension of textual entailment to a variety\n",
    "of new input modalities.\n",
    "\n",
    "### Requirements\n",
    "\n",
    "This example requires TensorFlow 2.5 or higher. In addition, TensorFlow Hub and\n",
    "TensorFlow Text are required for the BERT model\n",
    "([Devlin et al.](https://arxiv.org/abs/1810.04805)). These libraries can be installed\n",
    "using the following command:"
   ]
  },
  {
   "cell_type": "code",
   "execution_count": 1,
   "metadata": {
    "id": "pqYtg9CyHW1E"
   },
   "outputs": [],
   "source": [
    "!pip install -q tensorflow_text"
   ]
  },
  {
   "cell_type": "markdown",
   "metadata": {
    "id": "HIv23K1NHW1E"
   },
   "source": [
    "## Imports"
   ]
  },
  {
   "cell_type": "code",
   "execution_count": 2,
   "metadata": {
    "id": "R-511YbmHW1E"
   },
   "outputs": [
    {
     "name": "stderr",
     "output_type": "stream",
     "text": [
      "2023-07-07 15:30:07.643083: I tensorflow/core/util/util.cc:169] oneDNN custom operations are on. You may see slightly different numerical results due to floating-point round-off errors from different computation orders. To turn them off, set the environment variable `TF_ENABLE_ONEDNN_OPTS=0`.\n"
     ]
    }
   ],
   "source": [
    "from sklearn.model_selection import train_test_split\n",
    "import matplotlib.pyplot as plt\n",
    "import pandas as pd\n",
    "import numpy as np\n",
    "import os\n",
    "\n",
    "import tensorflow as tf\n",
    "import tensorflow_hub as hub\n",
    "import tensorflow_text as text\n",
    "from tensorflow import keras"
   ]
  },
  {
   "cell_type": "markdown",
   "metadata": {
    "id": "Wlk9mdz5HW1F"
   },
   "source": [
    "## Define a label map"
   ]
  },
  {
   "cell_type": "code",
   "execution_count": 3,
   "metadata": {
    "id": "eS5EgBxVHW1F"
   },
   "outputs": [],
   "source": [
    "label_map = {\"Contradictory\": 0, \"Implies\": 1, \"NoEntailment\": 2}"
   ]
  },
  {
   "cell_type": "markdown",
   "metadata": {
    "id": "ELRHSvbCHW1F"
   },
   "source": [
    "## Collect the dataset\n",
    "\n",
    "The original dataset is available\n",
    "[here](https://github.com/google-research-datasets/recognizing-multimodal-entailment).\n",
    "It comes with URLs of images which are hosted on Twitter's photo storage system called\n",
    "the\n",
    "[Photo Blob Storage (PBS for short)](https://blog.twitter.com/engineering/en_us/a/2012/blobstore-twitter-s-in-house-photo-storage-system).\n",
    "We will be working with the downloaded images along with additional data that comes with\n",
    "the original dataset. Thanks to\n",
    "[Nilabhra Roy Chowdhury](https://de.linkedin.com/in/nilabhraroychowdhury) who worked on\n",
    "preparing the image data."
   ]
  },
  {
   "cell_type": "code",
   "execution_count": 4,
   "metadata": {
    "id": "dpVQwtBSHW1F"
   },
   "outputs": [
    {
     "name": "stdout",
     "output_type": "stream",
     "text": [
      "Downloading data from https://github.com/sayakpaul/Multimodal-Entailment-Baseline/releases/download/v1.0.0/tweet_images.tar.gz\n",
      "344273442/344273442 [==============================] - 35s 0us/step\n"
     ]
    }
   ],
   "source": [
    "image_base_path = keras.utils.get_file(\n",
    "    \"tweet_images\",\n",
    "    \"https://github.com/sayakpaul/Multimodal-Entailment-Baseline/releases/download/v1.0.0/tweet_images.tar.gz\",\n",
    "    untar=True,\n",
    ")"
   ]
  },
  {
   "cell_type": "markdown",
   "metadata": {
    "id": "Nf0oebtIHW1F"
   },
   "source": [
    "## Read the dataset and apply basic preprocessing"
   ]
  },
  {
   "cell_type": "code",
   "execution_count": 5,
   "metadata": {
    "id": "C8LN4avvHW1F"
   },
   "outputs": [
    {
     "data": {
      "text/html": [
       "<div>\n",
       "<style scoped>\n",
       "    .dataframe tbody tr th:only-of-type {\n",
       "        vertical-align: middle;\n",
       "    }\n",
       "\n",
       "    .dataframe tbody tr th {\n",
       "        vertical-align: top;\n",
       "    }\n",
       "\n",
       "    .dataframe thead th {\n",
       "        text-align: right;\n",
       "    }\n",
       "</style>\n",
       "<table border=\"1\" class=\"dataframe\">\n",
       "  <thead>\n",
       "    <tr style=\"text-align: right;\">\n",
       "      <th></th>\n",
       "      <th>id_1</th>\n",
       "      <th>text_1</th>\n",
       "      <th>image_1</th>\n",
       "      <th>id_2</th>\n",
       "      <th>text_2</th>\n",
       "      <th>image_2</th>\n",
       "      <th>label</th>\n",
       "    </tr>\n",
       "  </thead>\n",
       "  <tbody>\n",
       "    <tr>\n",
       "      <th>155</th>\n",
       "      <td>1368585253749657602</td>\n",
       "      <td>Where peace rests. Book #dreamhome in #Arihant...</td>\n",
       "      <td>http://pbs.twimg.com/media/Ev4xCMLWgAk7nNH.jpg</td>\n",
       "      <td>1369521613927047169</td>\n",
       "      <td>Book 2/3 BHK #readytomove prominent homes at #...</td>\n",
       "      <td>http://pbs.twimg.com/media/EwGEpkVWEAAyFGq.jpg</td>\n",
       "      <td>NoEntailment</td>\n",
       "    </tr>\n",
       "    <tr>\n",
       "      <th>457</th>\n",
       "      <td>1338738547382231041</td>\n",
       "      <td>#NZDUSD #NZD #USD #Forecast #Trading #Forex\\n\\...</td>\n",
       "      <td>http://pbs.twimg.com/media/EpQnnUdXIAA_VQ2.jpg</td>\n",
       "      <td>1347437371210530818</td>\n",
       "      <td>#NZDUSD #NZD #USD #Forecast #Trading #Forex\\n\\...</td>\n",
       "      <td>http://pbs.twimg.com/media/ErMPJgNW8AA22nR.jpg</td>\n",
       "      <td>NoEntailment</td>\n",
       "    </tr>\n",
       "    <tr>\n",
       "      <th>1061</th>\n",
       "      <td>1351312312028819457</td>\n",
       "      <td>NEW 2024 FEC F2\\nJames Edward Bills (IND)\\n#PO...</td>\n",
       "      <td>http://pbs.twimg.com/media/EsDTYqWU0AA5sss.jpg</td>\n",
       "      <td>1362270770970259456</td>\n",
       "      <td>NEW 2024 FEC F2\\nCasey William Hardison (OTH)\\...</td>\n",
       "      <td>http://pbs.twimg.com/media/EufCC8UUUAIiUZB.jpg</td>\n",
       "      <td>NoEntailment</td>\n",
       "    </tr>\n",
       "    <tr>\n",
       "      <th>33</th>\n",
       "      <td>1381758342423584768</td>\n",
       "      <td>I've just watched episode S07 | E05 of Flash (...</td>\n",
       "      <td>http://pbs.twimg.com/media/Eyz947wXIAA_Yys.jpg</td>\n",
       "      <td>1382758012817960965</td>\n",
       "      <td>I've just watched episode S07 | E05 of The Fla...</td>\n",
       "      <td>http://pbs.twimg.com/media/EzCLFcIXMAc8KU5.jpg</td>\n",
       "      <td>Implies</td>\n",
       "    </tr>\n",
       "    <tr>\n",
       "      <th>876</th>\n",
       "      <td>1357264688896172034</td>\n",
       "      <td>US Dollar is gathering strength as the new adm...</td>\n",
       "      <td>http://pbs.twimg.com/media/EtX5CscWYAE25_R.png</td>\n",
       "      <td>1368861886817697792</td>\n",
       "      <td>GBPUSD trading within a 1.38 channel and looki...</td>\n",
       "      <td>http://pbs.twimg.com/media/Ev8socuXEAUwRx1.png</td>\n",
       "      <td>NoEntailment</td>\n",
       "    </tr>\n",
       "    <tr>\n",
       "      <th>171</th>\n",
       "      <td>1358873839283953664</td>\n",
       "      <td>Celebrate excellence in mathematics scholarshi...</td>\n",
       "      <td>http://pbs.twimg.com/media/EtuQqLNXMAMV0nl.jpg</td>\n",
       "      <td>1359215920682516486</td>\n",
       "      <td>The AMS @amermathsoc invites you to celebrate ...</td>\n",
       "      <td>http://pbs.twimg.com/media/EtznrRkXUAAj_N7.jpg</td>\n",
       "      <td>Implies</td>\n",
       "    </tr>\n",
       "    <tr>\n",
       "      <th>852</th>\n",
       "      <td>1332144854961434625</td>\n",
       "      <td>Sarama and Jaya winding down after a hard play...</td>\n",
       "      <td>http://pbs.twimg.com/media/Eny6rufXUAUJGXJ.jpg</td>\n",
       "      <td>1365782086251118594</td>\n",
       "      <td>But alas, Sarama eventually wore Indra out as ...</td>\n",
       "      <td>http://pbs.twimg.com/media/EvQ7kM6XEAMdE8h.jpg</td>\n",
       "      <td>NoEntailment</td>\n",
       "    </tr>\n",
       "    <tr>\n",
       "      <th>71</th>\n",
       "      <td>1379968626913124354</td>\n",
       "      <td>$TMUS  Out of the 1229 other times TMUS was do...</td>\n",
       "      <td>http://pbs.twimg.com/media/EyaiJwjXMAQ5BNz.jpg</td>\n",
       "      <td>1379969516604653571</td>\n",
       "      <td>$SPI  Out of the 620 other times SPI was down ...</td>\n",
       "      <td>http://pbs.twimg.com/media/Eyai9izWUAIPE2c.jpg</td>\n",
       "      <td>NoEntailment</td>\n",
       "    </tr>\n",
       "    <tr>\n",
       "      <th>1220</th>\n",
       "      <td>1379516812719628288</td>\n",
       "      <td>Friends, interested all go to have a look!\\n@S...</td>\n",
       "      <td>http://pbs.twimg.com/media/EyUHOw7VcAA4870.jpg</td>\n",
       "      <td>1381027990994219013</td>\n",
       "      <td>Friends! Anyone interested? Go and have a look...</td>\n",
       "      <td>http://pbs.twimg.com/media/Eyploq8U8AI7ba6.jpg</td>\n",
       "      <td>Contradictory</td>\n",
       "    </tr>\n",
       "    <tr>\n",
       "      <th>974</th>\n",
       "      <td>1332359785669406727</td>\n",
       "      <td>@nyjets Ratio’d by an uno reverse card https:/...</td>\n",
       "      <td>http://pbs.twimg.com/media/En1-KdAXMAEWGoK.jpg</td>\n",
       "      <td>1341138835091156998</td>\n",
       "      <td>When the manipulator pulls a fuckin reverse ca...</td>\n",
       "      <td>http://pbs.twimg.com/media/EpyuqYkXMAAzKdb.jpg</td>\n",
       "      <td>NoEntailment</td>\n",
       "    </tr>\n",
       "  </tbody>\n",
       "</table>\n",
       "</div>"
      ],
      "text/plain": [
       "                     id_1                                             text_1  \\\n",
       "155   1368585253749657602  Where peace rests. Book #dreamhome in #Arihant...   \n",
       "457   1338738547382231041  #NZDUSD #NZD #USD #Forecast #Trading #Forex\\n\\...   \n",
       "1061  1351312312028819457  NEW 2024 FEC F2\\nJames Edward Bills (IND)\\n#PO...   \n",
       "33    1381758342423584768  I've just watched episode S07 | E05 of Flash (...   \n",
       "876   1357264688896172034  US Dollar is gathering strength as the new adm...   \n",
       "171   1358873839283953664  Celebrate excellence in mathematics scholarshi...   \n",
       "852   1332144854961434625  Sarama and Jaya winding down after a hard play...   \n",
       "71    1379968626913124354  $TMUS  Out of the 1229 other times TMUS was do...   \n",
       "1220  1379516812719628288  Friends, interested all go to have a look!\\n@S...   \n",
       "974   1332359785669406727  @nyjets Ratio’d by an uno reverse card https:/...   \n",
       "\n",
       "                                             image_1                 id_2  \\\n",
       "155   http://pbs.twimg.com/media/Ev4xCMLWgAk7nNH.jpg  1369521613927047169   \n",
       "457   http://pbs.twimg.com/media/EpQnnUdXIAA_VQ2.jpg  1347437371210530818   \n",
       "1061  http://pbs.twimg.com/media/EsDTYqWU0AA5sss.jpg  1362270770970259456   \n",
       "33    http://pbs.twimg.com/media/Eyz947wXIAA_Yys.jpg  1382758012817960965   \n",
       "876   http://pbs.twimg.com/media/EtX5CscWYAE25_R.png  1368861886817697792   \n",
       "171   http://pbs.twimg.com/media/EtuQqLNXMAMV0nl.jpg  1359215920682516486   \n",
       "852   http://pbs.twimg.com/media/Eny6rufXUAUJGXJ.jpg  1365782086251118594   \n",
       "71    http://pbs.twimg.com/media/EyaiJwjXMAQ5BNz.jpg  1379969516604653571   \n",
       "1220  http://pbs.twimg.com/media/EyUHOw7VcAA4870.jpg  1381027990994219013   \n",
       "974   http://pbs.twimg.com/media/En1-KdAXMAEWGoK.jpg  1341138835091156998   \n",
       "\n",
       "                                                 text_2  \\\n",
       "155   Book 2/3 BHK #readytomove prominent homes at #...   \n",
       "457   #NZDUSD #NZD #USD #Forecast #Trading #Forex\\n\\...   \n",
       "1061  NEW 2024 FEC F2\\nCasey William Hardison (OTH)\\...   \n",
       "33    I've just watched episode S07 | E05 of The Fla...   \n",
       "876   GBPUSD trading within a 1.38 channel and looki...   \n",
       "171   The AMS @amermathsoc invites you to celebrate ...   \n",
       "852   But alas, Sarama eventually wore Indra out as ...   \n",
       "71    $SPI  Out of the 620 other times SPI was down ...   \n",
       "1220  Friends! Anyone interested? Go and have a look...   \n",
       "974   When the manipulator pulls a fuckin reverse ca...   \n",
       "\n",
       "                                             image_2          label  \n",
       "155   http://pbs.twimg.com/media/EwGEpkVWEAAyFGq.jpg   NoEntailment  \n",
       "457   http://pbs.twimg.com/media/ErMPJgNW8AA22nR.jpg   NoEntailment  \n",
       "1061  http://pbs.twimg.com/media/EufCC8UUUAIiUZB.jpg   NoEntailment  \n",
       "33    http://pbs.twimg.com/media/EzCLFcIXMAc8KU5.jpg        Implies  \n",
       "876   http://pbs.twimg.com/media/Ev8socuXEAUwRx1.png   NoEntailment  \n",
       "171   http://pbs.twimg.com/media/EtznrRkXUAAj_N7.jpg        Implies  \n",
       "852   http://pbs.twimg.com/media/EvQ7kM6XEAMdE8h.jpg   NoEntailment  \n",
       "71    http://pbs.twimg.com/media/Eyai9izWUAIPE2c.jpg   NoEntailment  \n",
       "1220  http://pbs.twimg.com/media/Eyploq8U8AI7ba6.jpg  Contradictory  \n",
       "974   http://pbs.twimg.com/media/EpyuqYkXMAAzKdb.jpg   NoEntailment  "
      ]
     },
     "execution_count": 5,
     "metadata": {},
     "output_type": "execute_result"
    }
   ],
   "source": [
    "df = pd.read_csv(\n",
    "    \"https://github.com/sayakpaul/Multimodal-Entailment-Baseline/raw/main/csvs/tweets.csv\"\n",
    ")\n",
    "df.sample(10)"
   ]
  },
  {
   "cell_type": "markdown",
   "metadata": {
    "id": "of5LYn7QHW1G"
   },
   "source": [
    "The columns we are interested in are the following:\n",
    "\n",
    "* `text_1`\n",
    "* `image_1`\n",
    "* `text_2`\n",
    "* `image_2`\n",
    "* `label`\n",
    "\n",
    "The entailment task is formulated as the following:\n",
    "\n",
    "***Given the pairs of (`text_1`, `image_1`) and (`text_2`, `image_2`) do they entail (or\n",
    "not entail or contradict) each other?***\n",
    "\n",
    "We have the images already downloaded. `image_1` is downloaded as `id1` as its filename\n",
    "and `image2` is downloaded as `id2` as its filename. In the next step, we will add two\n",
    "more columns to `df` - filepaths of `image_1`s and `image_2`s."
   ]
  },
  {
   "cell_type": "code",
   "execution_count": 6,
   "metadata": {
    "id": "rnj8CsBzHW1G"
   },
   "outputs": [],
   "source": [
    "images_one_paths = []\n",
    "images_two_paths = []\n",
    "\n",
    "for idx in range(len(df)):\n",
    "    current_row = df.iloc[idx]\n",
    "    id_1 = current_row[\"id_1\"]\n",
    "    id_2 = current_row[\"id_2\"]\n",
    "    extentsion_one = current_row[\"image_1\"].split(\".\")[-1]\n",
    "    extentsion_two = current_row[\"image_2\"].split(\".\")[-1]\n",
    "\n",
    "    image_one_path = os.path.join(image_base_path, str(id_1) + f\".{extentsion_one}\")\n",
    "    image_two_path = os.path.join(image_base_path, str(id_2) + f\".{extentsion_two}\")\n",
    "\n",
    "    images_one_paths.append(image_one_path)\n",
    "    images_two_paths.append(image_two_path)\n",
    "\n",
    "df[\"image_1_path\"] = images_one_paths\n",
    "df[\"image_2_path\"] = images_two_paths\n",
    "\n",
    "# Create another column containing the integer ids of\n",
    "# the string labels.\n",
    "df[\"label_idx\"] = df[\"label\"].apply(lambda x: label_map[x])"
   ]
  },
  {
   "cell_type": "markdown",
   "metadata": {
    "id": "S4kDnwrPHW1G"
   },
   "source": [
    "## Dataset visualization"
   ]
  },
  {
   "cell_type": "code",
   "execution_count": 7,
   "metadata": {
    "id": "hGeyK2FwHW1G"
   },
   "outputs": [
    {
     "data": {
      "image/png": "[encoded data removed]",
      "text/plain": [
       "<Figure size 640x480 with 2 Axes>"
      ]
     },
     "metadata": {},
     "output_type": "display_data"
    },
    {
     "name": "stdout",
     "output_type": "stream",
     "text": [
      "Text one: Results from this week's #NaFiannaLotto draw (Nov 30) below. Congrats to Match 3 &amp; LuckyPick winners. \n",
      "Next week's pot is €3,250: Sign up to Club Lotto here to be in with a chance to win... https://t.co/4ha8GaAMBg https://t.co/LQyBllokKu\n",
      "Text two: Final Club Lotto of 2020! Results from this week's #NaFiannaLotto draw (Dec 28) below. Congrats to Match 3 &amp; LuckyPick winners. \n",
      "Next week's pot is €4,250: Sign up to Club Lotto here to be in with a chance to win... https://t.co/4ha8GaAMBg https://t.co/FfJCPeBRhE\n",
      "Label: NoEntailment\n"
     ]
    },
    {
     "data": {
      "image/png": "[encoded data removed]",
      "text/plain": [
       "<Figure size 640x480 with 2 Axes>"
      ]
     },
     "metadata": {},
     "output_type": "display_data"
    },
    {
     "name": "stdout",
     "output_type": "stream",
     "text": [
      "Text one: Digital is the future. Let us embrace it  and move forward together to celebrate  computer Literacy day\n",
      "#ComputerLiteracyDay https://t.co/JeruOGPye6\n",
      "Text two: Digital is the future. Let us embrace it  and move forward together to celebrate  computer Literacy day https://t.co/yHx1WqnQCF\n",
      "Label: NoEntailment\n"
     ]
    }
   ],
   "source": [
    "\n",
    "def visualize(idx):\n",
    "    current_row = df.iloc[idx]\n",
    "    image_1 = plt.imread(current_row[\"image_1_path\"])\n",
    "    image_2 = plt.imread(current_row[\"image_2_path\"])\n",
    "    text_1 = current_row[\"text_1\"]\n",
    "    text_2 = current_row[\"text_2\"]\n",
    "    label = current_row[\"label\"]\n",
    "\n",
    "    plt.subplot(1, 2, 1)\n",
    "    plt.imshow(image_1)\n",
    "    plt.axis(\"off\")\n",
    "    plt.title(\"Image One\")\n",
    "    plt.subplot(1, 2, 2)\n",
    "    plt.imshow(image_1)\n",
    "    plt.axis(\"off\")\n",
    "    plt.title(\"Image Two\")\n",
    "    plt.show()\n",
    "\n",
    "    print(f\"Text one: {text_1}\")\n",
    "    print(f\"Text two: {text_2}\")\n",
    "    print(f\"Label: {label}\")\n",
    "\n",
    "\n",
    "random_idx = np.random.choice(len(df))\n",
    "visualize(random_idx)\n",
    "\n",
    "random_idx = np.random.choice(len(df))\n",
    "visualize(random_idx)"
   ]
  },
  {
   "cell_type": "markdown",
   "metadata": {
    "id": "348TJs2KHW1G"
   },
   "source": [
    "## Train/test split\n",
    "\n",
    "The dataset suffers from\n",
    "[class imbalance problem](https://developers.google.com/machine-learning/glossary#class-imbalanced-dataset).\n",
    "We can confirm that in the following cell."
   ]
  },
  {
   "cell_type": "code",
   "execution_count": 8,
   "metadata": {
    "id": "ncSe8sDhHW1G"
   },
   "outputs": [
    {
     "data": {
      "text/plain": [
       "label\n",
       "NoEntailment     1182\n",
       "Implies           109\n",
       "Contradictory     109\n",
       "Name: count, dtype: int64"
      ]
     },
     "execution_count": 8,
     "metadata": {},
     "output_type": "execute_result"
    }
   ],
   "source": [
    "df[\"label\"].value_counts()"
   ]
  },
  {
   "cell_type": "markdown",
   "metadata": {
    "id": "O_2YAVraHW1G"
   },
   "source": [
    "To account for that we will go for a stratified split."
   ]
  },
  {
   "cell_type": "code",
   "execution_count": 9,
   "metadata": {
    "id": "3ArlhKw3HW1H"
   },
   "outputs": [
    {
     "name": "stdout",
     "output_type": "stream",
     "text": [
      "Total training examples: 1197\n",
      "Total validation examples: 63\n",
      "Total test examples: 140\n"
     ]
    }
   ],
   "source": [
    "# 10% for test\n",
    "train_df, test_df = train_test_split(\n",
    "    df, test_size=0.1, stratify=df[\"label\"].values, random_state=42\n",
    ")\n",
    "# 5% for validation\n",
    "train_df, val_df = train_test_split(\n",
    "    train_df, test_size=0.05, stratify=train_df[\"label\"].values, random_state=42\n",
    ")\n",
    "\n",
    "print(f\"Total training examples: {len(train_df)}\")\n",
    "print(f\"Total validation examples: {len(val_df)}\")\n",
    "print(f\"Total test examples: {len(test_df)}\")"
   ]
  },
  {
   "cell_type": "markdown",
   "metadata": {
    "id": "p55yOU0qHW1H"
   },
   "source": [
    "## Data input pipeline\n",
    "\n",
    "TensorFlow Hub provides\n",
    "[variety of BERT family of models](https://www.tensorflow.org/text/tutorials/bert_glue#loading_models_from_tensorflow_hub).\n",
    "Each of those models comes with a\n",
    "corresponding preprocessing layer. You can learn more about these models and their\n",
    "preprocessing layers from\n",
    "[this resource](https://www.tensorflow.org/text/tutorials/bert_glue#loading_models_from_tensorflow_hub).\n",
    "\n",
    "To keep the runtime of this example relatively short, we will use a smaller variant of\n",
    "the original BERT model."
   ]
  },
  {
   "cell_type": "code",
   "execution_count": 10,
   "metadata": {
    "id": "SKvggQHfHW1H"
   },
   "outputs": [],
   "source": [
    "# Define TF Hub paths to the BERT encoder and its preprocessor\n",
    "bert_model_path = (\n",
    "    \"https://tfhub.dev/tensorflow/small_bert/bert_en_uncased_L-2_H-256_A-4/1\"\n",
    ")\n",
    "bert_preprocess_path = \"https://tfhub.dev/tensorflow/bert_en_uncased_preprocess/3\""
   ]
  },
  {
   "cell_type": "markdown",
   "metadata": {
    "id": "aXGKqqzgHW1H"
   },
   "source": [
    "Our text preprocessing code mostly comes from\n",
    "[this tutorial](https://www.tensorflow.org/text/tutorials/bert_glue).\n",
    "You are highly encouraged to check out the tutorial to learn more about the input\n",
    "preprocessing."
   ]
  },
  {
   "cell_type": "code",
   "execution_count": 11,
   "metadata": {
    "id": "P6LI2b6PHW1H"
   },
   "outputs": [
    {
     "name": "stderr",
     "output_type": "stream",
     "text": [
      "2023-07-07 15:30:50.510319: E tensorflow/stream_executor/cuda/cuda_driver.cc:271] failed call to cuInit: CUDA_ERROR_COMPAT_NOT_SUPPORTED_ON_DEVICE: forward compatibility was attempted on non supported HW\n",
      "2023-07-07 15:30:50.510345: I tensorflow/stream_executor/cuda/cuda_diagnostics.cc:169] retrieving CUDA diagnostic information for host: zlabshwa01\n",
      "2023-07-07 15:30:50.510348: I tensorflow/stream_executor/cuda/cuda_diagnostics.cc:176] hostname: zlabshwa01\n",
      "2023-07-07 15:30:50.510413: I tensorflow/stream_executor/cuda/cuda_diagnostics.cc:200] libcuda reported version is: 530.30.2\n",
      "2023-07-07 15:30:50.510424: I tensorflow/stream_executor/cuda/cuda_diagnostics.cc:204] kernel reported version is: 515.105.1\n",
      "2023-07-07 15:30:50.510426: E tensorflow/stream_executor/cuda/cuda_diagnostics.cc:313] kernel version 515.105.1 does not match DSO version 530.30.2 -- cannot find working devices in this configuration\n",
      "2023-07-07 15:30:50.510531: I tensorflow/core/platform/cpu_feature_guard.cc:193] This TensorFlow binary is optimized with oneAPI Deep Neural Network Library (oneDNN) to use the following CPU instructions in performance-critical operations:  AVX2 AVX_VNNI FMA\n",
      "To enable them in other operations, rebuild TensorFlow with the appropriate compiler flags.\n"
     ]
    },
    {
     "name": "stdout",
     "output_type": "stream",
     "text": [
      "You must install pydot (`pip install pydot`) and install graphviz (see instructions at https://graphviz.gitlab.io/download/) for plot_model/model_to_dot to work.\n"
     ]
    }
   ],
   "source": [
    "\n",
    "def make_bert_preprocessing_model(sentence_features, seq_length=128):\n",
    "    \"\"\"Returns Model mapping string features to BERT inputs.\n",
    "\n",
    "  Args:\n",
    "    sentence_features: A list with the names of string-valued features.\n",
    "    seq_length: An integer that defines the sequence length of BERT inputs.\n",
    "\n",
    "  Returns:\n",
    "    A Keras Model that can be called on a list or dict of string Tensors\n",
    "    (with the order or names, resp., given by sentence_features) and\n",
    "    returns a dict of tensors for input to BERT.\n",
    "  \"\"\"\n",
    "\n",
    "    input_segments = [\n",
    "        tf.keras.layers.Input(shape=(), dtype=tf.string, name=ft)\n",
    "        for ft in sentence_features\n",
    "    ]\n",
    "\n",
    "    # Tokenize the text to word pieces.\n",
    "    bert_preprocess = hub.load(bert_preprocess_path)\n",
    "    tokenizer = hub.KerasLayer(bert_preprocess.tokenize, name=\"tokenizer\")\n",
    "    segments = [tokenizer(s) for s in input_segments]\n",
    "\n",
    "    # Optional: Trim segments in a smart way to fit seq_length.\n",
    "    # Simple cases (like this example) can skip this step and let\n",
    "    # the next step apply a default truncation to approximately equal lengths.\n",
    "    truncated_segments = segments\n",
    "\n",
    "    # Pack inputs. The details (start/end token ids, dict of output tensors)\n",
    "    # are model-dependent, so this gets loaded from the SavedModel.\n",
    "    packer = hub.KerasLayer(\n",
    "        bert_preprocess.bert_pack_inputs,\n",
    "        arguments=dict(seq_length=seq_length),\n",
    "        name=\"packer\",\n",
    "    )\n",
    "    model_inputs = packer(truncated_segments)\n",
    "    return keras.Model(input_segments, model_inputs)\n",
    "\n",
    "\n",
    "bert_preprocess_model = make_bert_preprocessing_model([\"text_1\", \"text_2\"])\n",
    "keras.utils.plot_model(bert_preprocess_model, show_shapes=True, show_dtype=True)"
   ]
  },
  {
   "cell_type": "markdown",
   "metadata": {
    "id": "--7ncwkHHW1H"
   },
   "source": [
    "### Run the preprocessor on a sample input"
   ]
  },
  {
   "cell_type": "code",
   "execution_count": 12,
   "metadata": {
    "id": "8uFUy997HW1H"
   },
   "outputs": [
    {
     "name": "stdout",
     "output_type": "stream",
     "text": [
      "Text 1: Mason City leads New Hampton 21 to 17 with undefined minutes to go in the 2nd quarter https://t.co/OGaT6aKFza\n",
      "Text 2: Mason City leads New Hampton 28 to 26 with undefined minutes to go in the 3rd quarter https://t.co/96sXJkvViN\n",
      "Keys           :  ['input_type_ids', 'input_mask', 'input_word_ids']\n",
      "Shape Word Ids :  (1, 128)\n",
      "Word Ids       :  tf.Tensor(\n",
      "[  101  6701  2103  5260  2047 11615  2538  2000  2459  2007  6151 28344\n",
      "  2781  2000  2175  1999], shape=(16,), dtype=int32)\n",
      "Shape Mask     :  (1, 128)\n",
      "Input Mask     :  tf.Tensor([1 1 1 1 1 1 1 1 1 1 1 1 1 1 1 1], shape=(16,), dtype=int32)\n",
      "Shape Type Ids :  (1, 128)\n",
      "Type Ids       :  tf.Tensor([0 0 0 0 0 0 0 0 0 0 0 0 0 0 0 0], shape=(16,), dtype=int32)\n"
     ]
    }
   ],
   "source": [
    "idx = np.random.choice(len(train_df))\n",
    "row = train_df.iloc[idx]\n",
    "sample_text_1, sample_text_2 = row[\"text_1\"], row[\"text_2\"]\n",
    "print(f\"Text 1: {sample_text_1}\")\n",
    "print(f\"Text 2: {sample_text_2}\")\n",
    "\n",
    "test_text = [np.array([sample_text_1]), np.array([sample_text_2])]\n",
    "text_preprocessed = bert_preprocess_model(test_text)\n",
    "\n",
    "print(\"Keys           : \", list(text_preprocessed.keys()))\n",
    "print(\"Shape Word Ids : \", text_preprocessed[\"input_word_ids\"].shape)\n",
    "print(\"Word Ids       : \", text_preprocessed[\"input_word_ids\"][0, :16])\n",
    "print(\"Shape Mask     : \", text_preprocessed[\"input_mask\"].shape)\n",
    "print(\"Input Mask     : \", text_preprocessed[\"input_mask\"][0, :16])\n",
    "print(\"Shape Type Ids : \", text_preprocessed[\"input_type_ids\"].shape)\n",
    "print(\"Type Ids       : \", text_preprocessed[\"input_type_ids\"][0, :16])\n"
   ]
  },
  {
   "cell_type": "markdown",
   "metadata": {
    "id": "KGyZf72sHW1H"
   },
   "source": [
    "We will now create `tf.data.Dataset` objects from the dataframes.\n",
    "\n",
    "Note that the text inputs will be preprocessed as a part of the data input pipeline. But\n",
    "the preprocessing modules can also be a part of their corresponding BERT models. This\n",
    "helps reduce the training/serving skew and lets our models operate with raw text inputs.\n",
    "Follow [this tutorial](https://www.tensorflow.org/text/tutorials/classify_text_with_bert)\n",
    "to learn more about how to incorporate the preprocessing modules directly inside the\n",
    "models."
   ]
  },
  {
   "cell_type": "code",
   "execution_count": 13,
   "metadata": {
    "id": "8vrIGHq9HW1H"
   },
   "outputs": [],
   "source": [
    "\n",
    "def dataframe_to_dataset(dataframe):\n",
    "    columns = [\"image_1_path\", \"image_2_path\", \"text_1\", \"text_2\", \"label_idx\"]\n",
    "    dataframe = dataframe[columns].copy()\n",
    "    labels = dataframe.pop(\"label_idx\")\n",
    "    ds = tf.data.Dataset.from_tensor_slices((dict(dataframe), labels))\n",
    "    ds = ds.shuffle(buffer_size=len(dataframe))\n",
    "    return ds\n"
   ]
  },
  {
   "cell_type": "markdown",
   "metadata": {
    "id": "tWcB8eCLHW1H"
   },
   "source": [
    "### Preprocessing utilities"
   ]
  },
  {
   "cell_type": "code",
   "execution_count": 14,
   "metadata": {
    "id": "Vs9ugqpCHW1H"
   },
   "outputs": [],
   "source": [
    "resize = (128, 128)\n",
    "bert_input_features = [\"input_word_ids\", \"input_type_ids\", \"input_mask\"]\n",
    "\n",
    "\n",
    "def preprocess_image(image_path):\n",
    "    extension = tf.strings.split(image_path)[-1]\n",
    "\n",
    "    image = tf.io.read_file(image_path)\n",
    "    if extension == b\"jpg\":\n",
    "        image = tf.image.decode_jpeg(image, 3)\n",
    "    else:\n",
    "        image = tf.image.decode_png(image, 3)\n",
    "    image = tf.image.resize(image, resize)\n",
    "    return image\n",
    "\n",
    "\n",
    "def preprocess_text(text_1, text_2):\n",
    "    text_1 = tf.convert_to_tensor([text_1])\n",
    "    text_2 = tf.convert_to_tensor([text_2])\n",
    "    output = bert_preprocess_model([text_1, text_2])\n",
    "    output = {feature: tf.squeeze(output[feature]) for feature in bert_input_features}\n",
    "    return output\n",
    "\n",
    "\n",
    "def preprocess_text_and_image(sample):\n",
    "    image_1 = preprocess_image(sample[\"image_1_path\"])\n",
    "    image_2 = preprocess_image(sample[\"image_2_path\"])\n",
    "    text = preprocess_text(sample[\"text_1\"], sample[\"text_2\"])\n",
    "    return {\"image_1\": image_1, \"image_2\": image_2, \"text\": text}\n"
   ]
  },
  {
   "cell_type": "markdown",
   "metadata": {
    "id": "AaLXij9PHW1H"
   },
   "source": [
    "### Create the final datasets"
   ]
  },
  {
   "cell_type": "code",
   "execution_count": 15,
   "metadata": {
    "id": "CLJkc6awHW1I"
   },
   "outputs": [],
   "source": [
    "batch_size = 32\n",
    "auto = tf.data.AUTOTUNE\n",
    "\n",
    "\n",
    "def prepare_dataset(dataframe, training=True):\n",
    "    ds = dataframe_to_dataset(dataframe)\n",
    "    if training:\n",
    "        ds = ds.shuffle(len(train_df))\n",
    "    ds = ds.map(lambda x, y: (preprocess_text_and_image(x), y)).cache()\n",
    "    ds = ds.batch(batch_size).prefetch(auto)\n",
    "    return ds\n",
    "\n",
    "\n",
    "train_ds = prepare_dataset(train_df)\n",
    "validation_ds = prepare_dataset(val_df, False)\n",
    "test_ds = prepare_dataset(test_df, False)\n"
   ]
  },
  {
   "cell_type": "markdown",
   "metadata": {
    "id": "muofr1caHW1I"
   },
   "source": [
    "## Model building utilities\n",
    "\n",
    "Our final model will accept two images along with their text counterparts. While the\n",
    "images will be directly fed to the model the text inputs will first be preprocessed and\n",
    "then will make it into the model. Below is a visual illustration of this approach:\n",
    "\n",
    "![](https://github.com/sayakpaul/Multimodal-Entailment-Baseline/raw/main/figures/brief_architecture.png)\n",
    "\n",
    "The model consists of the following elements:\n",
    "\n",
    "* A standalone encoder for the images. We will use a\n",
    "[ResNet50V2](https://arxiv.org/abs/1603.05027) pre-trained on the ImageNet-1k dataset for\n",
    "this.\n",
    "* A standalone encoder for the images. A pre-trained BERT will be used for this.\n",
    "\n",
    "After extracting the individual embeddings, they will be projected in an identical space.\n",
    "Finally, their projections will be concatenated and be fed to the final classification\n",
    "layer.\n",
    "\n",
    "This is a multi-class classification problem involving the following classes:\n",
    "\n",
    "* NoEntailment\n",
    "* Implies\n",
    "* Contradictory\n",
    "\n",
    "`project_embeddings()`, `create_vision_encoder()`, and `create_text_encoder()` utilities\n",
    "are referred from [this example](https://keras.io/examples/nlp/nl_image_search/)."
   ]
  },
  {
   "cell_type": "markdown",
   "metadata": {
    "id": "ju2b6qBgHW1I"
   },
   "source": [
    "Projection utilities"
   ]
  },
  {
   "cell_type": "code",
   "execution_count": 16,
   "metadata": {
    "id": "qncgiumCHW1I"
   },
   "outputs": [],
   "source": [
    "\n",
    "def project_embeddings(\n",
    "    embeddings, num_projection_layers, projection_dims, dropout_rate\n",
    "):\n",
    "    projected_embeddings = keras.layers.Dense(units=projection_dims)(embeddings)\n",
    "    for _ in range(num_projection_layers):\n",
    "        x = tf.nn.gelu(projected_embeddings)\n",
    "        x = keras.layers.Dense(projection_dims)(x)\n",
    "        x = keras.layers.Dropout(dropout_rate)(x)\n",
    "        x = keras.layers.Add()([projected_embeddings, x])\n",
    "        projected_embeddings = keras.layers.LayerNormalization()(x)\n",
    "    return projected_embeddings\n"
   ]
  },
  {
   "cell_type": "markdown",
   "metadata": {
    "id": "IjM5hSZDHW1I"
   },
   "source": [
    "Vision encoder utilities"
   ]
  },
  {
   "cell_type": "code",
   "execution_count": 17,
   "metadata": {
    "id": "8QvXo0SQHW1I"
   },
   "outputs": [],
   "source": [
    "\n",
    "def create_vision_encoder(\n",
    "    num_projection_layers, projection_dims, dropout_rate, trainable=False\n",
    "):\n",
    "    # Load the pre-trained ResNet50V2 model to be used as the base encoder.\n",
    "    resnet_v2 = keras.applications.ResNet50V2(\n",
    "        include_top=False, weights=\"imagenet\", pooling=\"avg\"\n",
    "    )\n",
    "    # Set the trainability of the base encoder.\n",
    "    for layer in resnet_v2.layers:\n",
    "        layer.trainable = trainable\n",
    "\n",
    "    # Receive the images as inputs.\n",
    "    image_1 = keras.Input(shape=(128, 128, 3), name=\"image_1\")\n",
    "    image_2 = keras.Input(shape=(128, 128, 3), name=\"image_2\")\n",
    "\n",
    "    # Preprocess the input image.\n",
    "    preprocessed_1 = keras.applications.resnet_v2.preprocess_input(image_1)\n",
    "    preprocessed_2 = keras.applications.resnet_v2.preprocess_input(image_2)\n",
    "\n",
    "    # Generate the embeddings for the images using the resnet_v2 model\n",
    "    # concatenate them.\n",
    "    embeddings_1 = resnet_v2(preprocessed_1)\n",
    "    embeddings_2 = resnet_v2(preprocessed_2)\n",
    "    embeddings = keras.layers.Concatenate()([embeddings_1, embeddings_2])\n",
    "\n",
    "    # Project the embeddings produced by the model.\n",
    "    outputs = project_embeddings(\n",
    "        embeddings, num_projection_layers, projection_dims, dropout_rate\n",
    "    )\n",
    "    # Create the vision encoder model.\n",
    "    return keras.Model([image_1, image_2], outputs, name=\"vision_encoder\")\n"
   ]
  },
  {
   "cell_type": "markdown",
   "metadata": {
    "id": "SCAL8Ce8HW1I"
   },
   "source": [
    "Text encoder utilities"
   ]
  },
  {
   "cell_type": "code",
   "execution_count": 18,
   "metadata": {
    "id": "PLU6N93kHW1I"
   },
   "outputs": [],
   "source": [
    "\n",
    "def create_text_encoder(\n",
    "    num_projection_layers, projection_dims, dropout_rate, trainable=False\n",
    "):\n",
    "    # Load the pre-trained BERT model to be used as the base encoder.\n",
    "    bert = hub.KerasLayer(bert_model_path, name=\"bert\",)\n",
    "    # Set the trainability of the base encoder.\n",
    "    bert.trainable = trainable\n",
    "\n",
    "    # Receive the text as inputs.\n",
    "    bert_input_features = [\"input_type_ids\", \"input_mask\", \"input_word_ids\"]\n",
    "    inputs = {\n",
    "        feature: keras.Input(shape=(128,), dtype=tf.int32, name=feature)\n",
    "        for feature in bert_input_features\n",
    "    }\n",
    "\n",
    "    # Generate embeddings for the preprocessed text using the BERT model.\n",
    "    embeddings = bert(inputs)[\"pooled_output\"]\n",
    "\n",
    "    # Project the embeddings produced by the model.\n",
    "    outputs = project_embeddings(\n",
    "        embeddings, num_projection_layers, projection_dims, dropout_rate\n",
    "    )\n",
    "    # Create the text encoder model.\n",
    "    return keras.Model(inputs, outputs, name=\"text_encoder\")\n"
   ]
  },
  {
   "cell_type": "markdown",
   "metadata": {
    "id": "j9Y8lfrAHW1I"
   },
   "source": [
    "Multimodal model utilities"
   ]
  },
  {
   "cell_type": "code",
   "execution_count": 19,
   "metadata": {
    "id": "eVPtA_atHW1N"
   },
   "outputs": [
    {
     "name": "stdout",
     "output_type": "stream",
     "text": [
      "You must install pydot (`pip install pydot`) and install graphviz (see instructions at https://graphviz.gitlab.io/download/) for plot_model/model_to_dot to work.\n"
     ]
    }
   ],
   "source": [
    "\n",
    "def create_multimodal_model(\n",
    "    num_projection_layers=1,\n",
    "    projection_dims=256,\n",
    "    dropout_rate=0.1,\n",
    "    vision_trainable=False,\n",
    "    text_trainable=False,\n",
    "):\n",
    "    # Receive the images as inputs.\n",
    "    image_1 = keras.Input(shape=(128, 128, 3), name=\"image_1\")\n",
    "    image_2 = keras.Input(shape=(128, 128, 3), name=\"image_2\")\n",
    "\n",
    "    # Receive the text as inputs.\n",
    "    bert_input_features = [\"input_type_ids\", \"input_mask\", \"input_word_ids\"]\n",
    "    text_inputs = {\n",
    "        feature: keras.Input(shape=(128,), dtype=tf.int32, name=feature)\n",
    "        for feature in bert_input_features\n",
    "    }\n",
    "\n",
    "    # Create the encoders.\n",
    "    vision_encoder = create_vision_encoder(\n",
    "        num_projection_layers, projection_dims, dropout_rate, vision_trainable\n",
    "    )\n",
    "    text_encoder = create_text_encoder(\n",
    "        num_projection_layers, projection_dims, dropout_rate, text_trainable\n",
    "    )\n",
    "\n",
    "    # Fetch the embedding projections.\n",
    "    vision_projections = vision_encoder([image_1, image_2])\n",
    "    text_projections = text_encoder(text_inputs)\n",
    "\n",
    "    # Concatenate the projections and pass through the classification layer.\n",
    "    concatenated = keras.layers.Concatenate()([vision_projections, text_projections])\n",
    "    outputs = keras.layers.Dense(3, activation=\"softmax\")(concatenated)\n",
    "    return keras.Model([image_1, image_2, text_inputs], outputs)\n",
    "\n",
    "\n",
    "multimodal_model = create_multimodal_model()\n",
    "keras.utils.plot_model(multimodal_model, show_shapes=True)"
   ]
  },
  {
   "cell_type": "markdown",
   "metadata": {
    "id": "4Ea_3uzzHW1N"
   },
   "source": [
    "You can inspect the structure of the individual encoders as well by setting the\n",
    "`expand_nested` argument of `plot_model()` to `True`. You are encouraged\n",
    "to play with the different hyperparameters involved in building this model and\n",
    "observe how the final performance is affected."
   ]
  },
  {
   "cell_type": "markdown",
   "metadata": {
    "id": "DnlzxHteHW1N"
   },
   "source": [
    "## Compile and train the model"
   ]
  },
  {
   "cell_type": "code",
   "execution_count": 20,
   "metadata": {
    "id": "YLNwf-FtHW1O"
   },
   "outputs": [
    {
     "name": "stdout",
     "output_type": "stream",
     "text": [
      "Epoch 1/10\n",
      "38/38 [==============================] - 13s 280ms/step - loss: 0.7696 - accuracy: 0.8396 - val_loss: 0.5473 - val_accuracy: 0.8571\n",
      "Epoch 2/10\n",
      "38/38 [==============================] - 7s 174ms/step - loss: 0.3951 - accuracy: 0.8747 - val_loss: 0.5987 - val_accuracy: 0.8413\n",
      "Epoch 3/10\n",
      "38/38 [==============================] - 7s 172ms/step - loss: 0.3288 - accuracy: 0.8939 - val_loss: 0.6584 - val_accuracy: 0.8571\n",
      "Epoch 4/10\n",
      "38/38 [==============================] - 7s 172ms/step - loss: 0.2336 - accuracy: 0.9206 - val_loss: 0.8041 - val_accuracy: 0.8730\n",
      "Epoch 5/10\n",
      "38/38 [==============================] - 7s 173ms/step - loss: 0.2131 - accuracy: 0.9215 - val_loss: 0.7955 - val_accuracy: 0.7778\n",
      "Epoch 6/10\n",
      "38/38 [==============================] - 7s 171ms/step - loss: 0.2636 - accuracy: 0.9240 - val_loss: 0.9422 - val_accuracy: 0.7778\n",
      "Epoch 7/10\n",
      "38/38 [==============================] - 7s 173ms/step - loss: 0.1657 - accuracy: 0.9398 - val_loss: 0.9141 - val_accuracy: 0.7937\n",
      "Epoch 8/10\n",
      "38/38 [==============================] - 7s 172ms/step - loss: 0.0886 - accuracy: 0.9691 - val_loss: 1.1976 - val_accuracy: 0.8571\n",
      "Epoch 9/10\n",
      "38/38 [==============================] - 7s 172ms/step - loss: 0.0674 - accuracy: 0.9766 - val_loss: 1.2366 - val_accuracy: 0.8730\n",
      "Epoch 10/10\n",
      "38/38 [==============================] - 7s 173ms/step - loss: 0.0551 - accuracy: 0.9833 - val_loss: 1.0444 - val_accuracy: 0.8254\n"
     ]
    }
   ],
   "source": [
    "multimodal_model.compile(\n",
    "    optimizer=\"adam\", loss=\"sparse_categorical_crossentropy\", metrics=\"accuracy\"\n",
    ")\n",
    "\n",
    "history = multimodal_model.fit(train_ds, validation_data=validation_ds, epochs=10)"
   ]
  },
  {
   "cell_type": "markdown",
   "metadata": {
    "id": "opJrgUOHHW1O"
   },
   "source": [
    "## Evaluate the model"
   ]
  },
  {
   "cell_type": "code",
   "execution_count": 21,
   "metadata": {
    "id": "R4LnYLF6HW1O"
   },
   "outputs": [
    {
     "name": "stdout",
     "output_type": "stream",
     "text": [
      "5/5 [==============================] - 2s 205ms/step - loss: 1.1293 - accuracy: 0.7429\n",
      "Accuracy on the test set: 74.29%.\n"
     ]
    }
   ],
   "source": [
    "_, acc = multimodal_model.evaluate(test_ds)\n",
    "print(f\"Accuracy on the test set: {round(acc * 100, 2)}%.\")"
   ]
  },
  {
   "cell_type": "markdown",
   "metadata": {
    "id": "tiPPeZ7rHW1O"
   },
   "source": [
    "## Additional notes regarding training\n",
    "\n",
    "**Incorporating regularization**:\n",
    "\n",
    "The training logs suggest that the model is starting to overfit and may have benefitted\n",
    "from regularization. Dropout ([Srivastava et al.](https://jmlr.org/papers/v15/srivastava14a.html))\n",
    "is a simple yet powerful regularization technique that we can use in our model.\n",
    "But how should we apply it here?\n",
    "\n",
    "We could always introduce Dropout (`keras.layers.Dropout`) in between different layers of the model.\n",
    "But here is another recipe. Our model expects inputs from two different data modalities.\n",
    "What if either of the modalities is not present during inference? To account for this,\n",
    "we can introduce Dropout to the individual projections just before they get concatenated:\n",
    "\n",
    "```python\n",
    "vision_projections = keras.layers.Dropout(rate)(vision_projections)\n",
    "text_projections = keras.layers.Dropout(rate)(text_projections)\n",
    "concatenated = keras.layers.Concatenate()([vision_projections, text_projections])\n",
    "```\n",
    "\n",
    "**Attending to what matters**:\n",
    "\n",
    "Do all parts of the images correspond equally to their textual counterparts? It's likely\n",
    "not the case. To make our model only focus on the most important bits of the images that relate\n",
    "well to their corresponding textual parts we can use \"cross-attention\":\n",
    "\n",
    "```python\n",
    "# Embeddings.\n",
    "vision_projections = vision_encoder([image_1, image_2])\n",
    "text_projections = text_encoder(text_inputs)\n",
    "\n",
    "# Cross-attention (Luong-style).\n",
    "query_value_attention_seq = keras.layers.Attention(use_scale=True, dropout=0.2)(\n",
    "    [vision_projections, text_projections]\n",
    ")\n",
    "# Concatenate.\n",
    "concatenated = keras.layers.Concatenate()([vision_projections, text_projections])\n",
    "contextual = keras.layers.Concatenate()([concatenated, query_value_attention_seq])\n",
    "```\n",
    "\n",
    "To see this in action, refer to\n",
    "[this notebook](https://github.com/sayakpaul/Multimodal-Entailment-Baseline/blob/main/multimodal_entailment_attn.ipynb).\n",
    "\n",
    "**Handling class imbalance**:\n",
    "\n",
    "The dataset suffers from class imbalance. Investigating the confusion matrix of the\n",
    "above model reveals that it performs poorly on the minority classes. If we had used a\n",
    "weighted loss then the training would have been more guided. You can check out\n",
    "[this notebook](https://github.com/sayakpaul/Multimodal-Entailment-Baseline/blob/main/multimodal_entailment.ipynb)\n",
    "that takes class-imbalance into account during model training.\n",
    "\n",
    "**Using only text inputs**:\n",
    "\n",
    "Also, what if we had only incorporated text inputs for the entailment task? Because of\n",
    "the nature of the text inputs encountered on social media platforms, text inputs alone\n",
    "would have hurt the final performance. Under a similar training setup, by only using\n",
    "text inputs we get to 67.14% top-1 accuracy on the same test set. Refer to\n",
    "[this notebook](https://github.com/sayakpaul/Multimodal-Entailment-Baseline/blob/main/text_entailment.ipynb)\n",
    "for details.\n",
    "\n",
    "Finally, here is a table comparing different approaches taken for the entailment task:\n",
    "\n",
    "| Type  | Standard<br>Cross-entropy     | Loss-weighted<br>Cross-entropy    | Focal Loss    |\n",
    "|:---:  |:---:  |:---:    |:---:    |\n",
    "| Multimodal    | 77.86%    | 67.86%    | 86.43%    |\n",
    "| Only text     | 67.14%    | 11.43%    | 37.86%    |\n",
    "\n",
    "You can check out [this repository](https://git.io/JR0HU) to learn more about how the\n",
    "experiments were conducted to obtain these numbers."
   ]
  },
  {
   "cell_type": "markdown",
   "metadata": {
    "id": "q8PowyC3HW1O"
   },
   "source": [
    "## Final remarks\n",
    "\n",
    "* The architecture we used in this example is too large for the number of data points\n",
    "available for training. It's going to benefit from more data.\n",
    "* We used a smaller variant of the original BERT model. Chances are high that with a\n",
    "larger variant, this performance will be improved. TensorFlow Hub\n",
    "[provides](https://www.tensorflow.org/text/tutorials/bert_glue#loading_models_from_tensorflow_hub)\n",
    "a number of different BERT models that you can experiment with.\n",
    "* We kept the pre-trained models frozen. Fine-tuning them on the multimodal entailment\n",
    "task would could resulted in better performance.\n",
    "* We built a simple baseline model for the multimodal entailment task. There are various\n",
    "approaches that have been proposed to tackle the entailment problem.\n",
    "[This presentation deck](https://docs.google.com/presentation/d/1mAB31BCmqzfedreNZYn4hsKPFmgHA9Kxz219DzyRY3c/edit?usp=sharing)\n",
    "from the\n",
    "[Recognizing Multimodal Entailment](https://multimodal-entailment.github.io/)\n",
    "tutorial provides a comprehensive overview.\n",
    "\n",
    "You can use the trained model hosted on [Hugging Face Hub](https://huggingface.co/keras-io/multimodal-entailment) and try the demo on [Hugging Face Spaces](https://huggingface.co/spaces/keras-io/multimodal_entailment)"
   ]
  }
 ],
 "metadata": {
  "accelerator": "GPU",
  "colab": {
   "name": "multimodal_entailment",
   "provenance": [],
   "toc_visible": true
  },
  "kernelspec": {
   "display_name": "Python 3 (ipykernel)",
   "language": "python",
   "name": "python3"
  },
  "language_info": {
   "codemirror_mode": {
    "name": "ipython",
    "version": 3
   },
   "file_extension": ".py",
   "mimetype": "text/x-python",
   "name": "python",
   "nbconvert_exporter": "python",
   "pygments_lexer": "ipython3",
   "version": "3.10.9"
  }
 },
 "nbformat": 4,
 "nbformat_minor": 1
}
